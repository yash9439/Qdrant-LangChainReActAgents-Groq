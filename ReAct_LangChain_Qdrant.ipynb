{
 "cells": [
  {
   "cell_type": "code",
   "execution_count": 1,
   "metadata": {},
   "outputs": [],
   "source": [
    "# !pip install groq qdrant-client\n",
    "# !pip install langchain-groq\n",
    "# !pip install langchainhub"
   ]
  },
  {
   "cell_type": "markdown",
   "metadata": {},
   "source": [
    "# Imports"
   ]
  },
  {
   "cell_type": "code",
   "execution_count": 1,
   "metadata": {},
   "outputs": [],
   "source": [
    "import os\n",
    "from PyPDF2 import PdfReader\n",
    "import numpy as np\n",
    "from langchain_community.vectorstores import Qdrant\n",
    "from langchain_community.document_loaders import TextLoader\n",
    "from langchain_text_splitters import CharacterTextSplitter\n",
    "import numpy as np\n",
    "from langchain.tools.retriever import create_retriever_tool\n",
    "from langchain.agents import Tool\n",
    "from langchain import hub\n",
    "from langchain.agents import AgentExecutor, create_react_agent\n",
    "from langchain_community.llms import OpenAI\n",
    "from langchain_groq import ChatGroq\n",
    "import gradio as gr\n"
   ]
  },
  {
   "cell_type": "markdown",
   "metadata": {},
   "source": [
    "# Extracting Text from PDFs"
   ]
  },
  {
   "cell_type": "code",
   "execution_count": 2,
   "metadata": {},
   "outputs": [],
   "source": [
    "def extract_text_from_pdf(pdf_path):\n",
    "    \"\"\"\n",
    "    Extract text content from a PDF file.\n",
    "\n",
    "    Args:\n",
    "    - pdf_path (str): The path to the PDF file.\n",
    "\n",
    "    Returns:\n",
    "    - str: The extracted text content.\n",
    "    \"\"\"\n",
    "    reader = PdfReader(pdf_path)\n",
    "    extracted_text = \"\"\n",
    "    for page in reader.pages:\n",
    "        extracted_text += page.extract_text()\n",
    "    return extracted_text\n",
    "\n",
    "def extract_text_from_pdfs_in_directory(directory):\n",
    "    \"\"\"\n",
    "    Extract text content from all PDF files in a directory and save as text files.\n",
    "\n",
    "    Args:\n",
    "    - directory (str): The path to the directory containing PDF files.\n",
    "    \"\"\"\n",
    "    for filename in os.listdir(directory):\n",
    "        if filename.endswith(\".pdf\"):\n",
    "            pdf_path = os.path.join(directory, filename)\n",
    "            extracted_text = extract_text_from_pdf(pdf_path)\n",
    "            txt_filename = os.path.splitext(filename)[0] + \".txt\"\n",
    "            txt_filepath = os.path.join(directory, txt_filename)\n",
    "            with open(txt_filepath, \"w\") as txt_file:\n",
    "                txt_file.write(extracted_text)\n",
    "\n",
    "# Specify the directory containing PDF files\n",
    "directory_path = \"Docs/\"\n",
    "\n",
    "# Extract text from PDFs in the directory and save as text files\n",
    "extract_text_from_pdfs_in_directory(directory_path)\n"
   ]
  },
  {
   "cell_type": "markdown",
   "metadata": {},
   "source": [
    "# Generating Embedding "
   ]
  },
  {
   "cell_type": "code",
   "execution_count": 3,
   "metadata": {},
   "outputs": [],
   "source": [
    "GROQ_API_KEY = \"<GROQ_API_KEY>\"\n",
    "\n",
    "collection_name = \"legal_contract\""
   ]
  },
  {
   "cell_type": "code",
   "execution_count": 4,
   "metadata": {},
   "outputs": [],
   "source": [
    "directory_path = \"Docs\"\n",
    "\n",
    "# List all .txt files in the directory\n",
    "txt_files = [file for file in os.listdir(directory_path) if file.endswith('.txt')]\n",
    "\n",
    "loader = TextLoader(directory_path + \"/\" + txt_files[0])\n",
    "documents = loader.load()\n",
    "text_splitter = CharacterTextSplitter(chunk_size=1000, chunk_overlap=0)\n",
    "docs = text_splitter.split_documents(documents)"
   ]
  },
  {
   "cell_type": "code",
   "execution_count": 5,
   "metadata": {},
   "outputs": [],
   "source": [
    "# Initialize the TextEmbedding model\n",
    "from langchain.embeddings import HuggingFaceEmbeddings\n",
    "\n",
    "embeddings = HuggingFaceEmbeddings(\n",
    "    model_name=\"sentence-transformers/all-mpnet-base-v2\"\n",
    ")\n",
    "\n",
    "qdrant = Qdrant.from_documents(\n",
    "    docs,\n",
    "    embeddings,\n",
    "    location=\":memory:\",  # Local mode with in-memory storage only\n",
    "    collection_name=\"my_documents\",\n",
    ")"
   ]
  },
  {
   "cell_type": "code",
   "execution_count": 6,
   "metadata": {},
   "outputs": [],
   "source": [
    "retriever = qdrant.as_retriever()"
   ]
  },
  {
   "cell_type": "markdown",
   "metadata": {},
   "source": [
    "# Setting ReAct Agents"
   ]
  },
  {
   "cell_type": "code",
   "execution_count": 7,
   "metadata": {},
   "outputs": [],
   "source": [
    "# convert PDR retriever into a tool\n",
    "tool_search = create_retriever_tool(\n",
    "    retriever,\n",
    "    \"eligibility\",\n",
    "    \"Checks for eligibility of the contract\",\n",
    ")"
   ]
  },
  {
   "cell_type": "code",
   "execution_count": 8,
   "metadata": {},
   "outputs": [
    {
     "data": {
      "text/plain": [
       "functools.partial(<function _get_relevant_documents at 0x702e960f2cb0>, retriever=VectorStoreRetriever(tags=['Qdrant', 'HuggingFaceEmbeddings'], vectorstore=<langchain_community.vectorstores.qdrant.Qdrant object at 0x702e93fd1030>), document_prompt=PromptTemplate(input_variables=['page_content'], template='{page_content}'), document_separator='\\n\\n')"
      ]
     },
     "execution_count": 8,
     "metadata": {},
     "output_type": "execute_result"
    }
   ],
   "source": [
    "tool_search.func"
   ]
  },
  {
   "cell_type": "code",
   "execution_count": 9,
   "metadata": {},
   "outputs": [
    {
     "data": {
      "text/plain": [
       "{'title': 'RetrieverInput',\n",
       " 'description': 'Input to the retriever.',\n",
       " 'type': 'object',\n",
       " 'properties': {'query': {'title': 'Query',\n",
       "   'description': 'query to look up in retriever',\n",
       "   'type': 'string'}},\n",
       " 'required': ['query']}"
      ]
     },
     "execution_count": 9,
     "metadata": {},
     "output_type": "execute_result"
    }
   ],
   "source": [
    "tool_search.args_schema.schema()"
   ]
  },
  {
   "cell_type": "code",
   "execution_count": 10,
   "metadata": {},
   "outputs": [],
   "source": [
    "def get_age(name: str, person_database: dict) -> int:\n",
    "    \"\"\"\n",
    "    Get the age of a person from the database.\n",
    "\n",
    "    Args:\n",
    "    - name (str): The name of the person.\n",
    "    - person_database (dict): A dictionary containing person information.\n",
    "\n",
    "    Returns:\n",
    "    - int: The age of the person if found, otherwise None.\n",
    "    \"\"\"\n",
    "    if name in person_database:\n",
    "        return person_database[name][\"Age\"]\n",
    "    else:\n",
    "        return None\n",
    "\n",
    "def get_health(name: str, person_database: dict) -> str:\n",
    "    \"\"\"\n",
    "    Get the health status of a person from the database.\n",
    "\n",
    "    Args:\n",
    "    - name (str): The name of the person.\n",
    "    - person_database (dict): A dictionary containing person information.\n",
    "\n",
    "    Returns:\n",
    "    - str: The health status of the person if found, otherwise None.\n",
    "    \"\"\"\n",
    "    if name in person_database:\n",
    "        return person_database[name][\"Health\"]\n",
    "    else:\n",
    "        return None\n",
    "\n",
    "def get_age_info(name: str) -> str:\n",
    "    \"\"\"\n",
    "    Get age and health information for a person.\n",
    "\n",
    "    Args:\n",
    "    - name (str): The name of the person.\n",
    "\n",
    "    Returns:\n",
    "    - str: A string containing age and health information for the person.\n",
    "    \"\"\"\n",
    "    person_database = {\n",
    "        \"Sam\": {\"Age\": 21, \"Nationality\": \"US\", \"Health\": \"Good\"},\n",
    "        \"Alice\": {\"Age\": 25, \"Nationality\": \"UK\", \"Health\": \"Good\"},\n",
    "        \"Bob\": {\"Age\": 11, \"Nationality\": \"US\", \"Health\": \"Mentally Not Sound\"}\n",
    "    }\n",
    "    age = get_age(name, person_database)\n",
    "    if age is not None:\n",
    "        return f\"\\nAge: {age}\\n\"\n",
    "    else:\n",
    "        return f\"\\nAge Information for {name} not found.\\n\"\n",
    "    \n",
    "def get_health_info(name: str) -> str:\n",
    "    \"\"\"\n",
    "    Get age and health information for a person.\n",
    "\n",
    "    Args:\n",
    "    - name (str): The name of the person.\n",
    "\n",
    "    Returns:\n",
    "    - str: A string containing age and health information for the person.\n",
    "    \"\"\"\n",
    "    person_database = {\n",
    "        \"Sam\": {\"Age\": 21, \"Nationality\": \"US\", \"Health\": \"Good\"},\n",
    "        \"Alice\": {\"Age\": 25, \"Nationality\": \"UK\", \"Health\": \"Mentally Not Sound\"},\n",
    "        \"Bob\": {\"Age\": 11, \"Nationality\": \"US\", \"Health\": \"Good\"}\n",
    "    }\n",
    "    health = get_health(name, person_database)\n",
    "    if health is not None:\n",
    "        return f\"\\nHealth: {health}\\n\"\n",
    "    else:\n",
    "        return f\"\\nHealth Information for {name} not found.\\n\"\n",
    "\n",
    "# Define the Tool\n",
    "get_age_info_tool = Tool(\n",
    "    name=\"Get Age\",\n",
    "    func=get_age_info,\n",
    "    description=\"Useful for getting age information for any person. Input should be the name of the person.\"\n",
    ")\n",
    "get_health_info_tool = Tool(\n",
    "    name=\"Get Health\",\n",
    "    func=get_health_info,\n",
    "    description=\"Useful for getting health information for any person. Input should be the name of the person.\"\n",
    ")\n"
   ]
  },
  {
   "cell_type": "markdown",
   "metadata": {},
   "source": [
    "# Common Agent prompts"
   ]
  },
  {
   "cell_type": "code",
   "execution_count": 11,
   "metadata": {},
   "outputs": [
    {
     "name": "stdout",
     "output_type": "stream",
     "text": [
      "Answer the following questions as best you can. You have access to the following tools:\n",
      "\n",
      "{tools}\n",
      "\n",
      "Use the following format:\n",
      "\n",
      "Question: the input question you must answer\n",
      "Thought: you should always think about what to do\n",
      "Action: the action to take, should be one of [{tool_names}]\n",
      "Action Input: the input to the action\n",
      "Observation: the result of the action\n",
      "... (this Thought/Action/Action Input/Observation can repeat N times)\n",
      "Thought: I now know the final answer\n",
      "Final Answer: the final answer to the original input question\n",
      "\n",
      "Begin!\n",
      "\n",
      "Question: {input}\n",
      "Thought:{agent_scratchpad}\n"
     ]
    }
   ],
   "source": [
    "prompt_react = hub.pull(\"hwchase17/react\")\n",
    "print(prompt_react.template)"
   ]
  },
  {
   "cell_type": "markdown",
   "metadata": {},
   "source": [
    "# Running the ReAct agent"
   ]
  },
  {
   "cell_type": "code",
   "execution_count": 12,
   "metadata": {},
   "outputs": [
    {
     "name": "stderr",
     "output_type": "stream",
     "text": [
      "/home/yash/.local/lib/python3.10/site-packages/langchain_core/_api/deprecation.py:119: LangChainDeprecationWarning: The class `OpenAI` was deprecated in LangChain 0.0.10 and will be removed in 0.2.0. An updated version of the class exists in the langchain-openai package and should be used instead. To use it run `pip install -U langchain-openai` and import as `from langchain_openai import OpenAI`.\n",
      "  warn_deprecated(\n"
     ]
    }
   ],
   "source": [
    "# tools = [tool_search, get_info_tool]\n",
    "\n",
    "tools = [get_age_info_tool, get_health_info_tool]\n",
    "\n",
    "model = ChatGroq(model_name=\"llama3-70b-8192\", groq_api_key=GROQ_API_KEY, temperature=0)\n",
    "# model = OpenAI(openai_api_key=\"<YOUR_OPENAI>\")\n",
    "\n",
    "react_agent = create_react_agent(model, tools=tools, prompt=prompt_react)\n",
    "react_agent_executor = AgentExecutor(\n",
    "    agent=react_agent, tools=tools, verbose=True, handle_parsing_errors=True\n",
    ")"
   ]
  },
  {
   "cell_type": "code",
   "execution_count": 14,
   "metadata": {},
   "outputs": [
    {
     "name": "stdout",
     "output_type": "stream",
     "text": [
      "\n",
      "\n",
      "\u001b[1m> Entering new AgentExecutor chain...\u001b[0m\n",
      "\u001b[32;1m\u001b[1;3mThought: To determine if Bob can make a legal contract, I need to know if Bob is of legal age. In most places, the legal age for entering into contracts is 18 years old.\n",
      "\n",
      "Action: Get Age\n",
      "Action Input: Bob\u001b[0m\u001b[36;1m\u001b[1;3m\n",
      "Age: 11\n",
      "\u001b[0m\u001b[32;1m\u001b[1;3mThought: Since Bob is only 11 years old, he is not of legal age to enter into a contract. In most places, the legal age for entering into contracts is 18 years old.\n",
      "\n",
      "Final Answer: No, Bob cannot make a legal contract.\u001b[0m\n",
      "\n",
      "\u001b[1m> Finished chain.\u001b[0m\n"
     ]
    },
    {
     "data": {
      "text/plain": [
       "{'input': 'I am Bob. Can i make a legal contract?',\n",
       " 'output': 'No, Bob cannot make a legal contract.'}"
      ]
     },
     "execution_count": 14,
     "metadata": {},
     "output_type": "execute_result"
    }
   ],
   "source": [
    "# Eligibility Check Example:\n",
    "query = \"I am Bob. Can i make a legal contract?\"\n",
    "react_agent_executor.invoke({\"input\": query})"
   ]
  },
  {
   "cell_type": "code",
   "execution_count": 15,
   "metadata": {},
   "outputs": [
    {
     "name": "stdout",
     "output_type": "stream",
     "text": [
      "\n",
      "\n",
      "\u001b[1m> Entering new AgentExecutor chain...\u001b[0m\n",
      "\u001b[32;1m\u001b[1;3mI need to find out Alice's age.\n",
      "\n",
      "Action: Get Age\n",
      "Action Input: Alice\u001b[0m\u001b[36;1m\u001b[1;3m\n",
      "Age: 25\n",
      "\u001b[0m\u001b[32;1m\u001b[1;3mI now know the final answer\n",
      "Final Answer: Alice is 25 years old.\u001b[0m\n",
      "\n",
      "\u001b[1m> Finished chain.\u001b[0m\n"
     ]
    },
    {
     "data": {
      "text/plain": [
       "{'input': \"What is Alice's age?\", 'output': 'Alice is 25 years old.'}"
      ]
     },
     "execution_count": 15,
     "metadata": {},
     "output_type": "execute_result"
    }
   ],
   "source": [
    "# Query for retrieving personal information\n",
    "query = \"What is Alice's age?\"\n",
    "react_agent_executor.invoke({\"input\": query})"
   ]
  },
  {
   "cell_type": "code",
   "execution_count": 13,
   "metadata": {},
   "outputs": [
    {
     "name": "stdout",
     "output_type": "stream",
     "text": [
      "\n",
      "\n",
      "\u001b[1m> Entering new AgentExecutor chain...\u001b[0m\n",
      "\u001b[32;1m\u001b[1;3m Since the question involves a person's name, the best tools to use would be Get Age and Get Health.\n",
      "Action: Get Age\n",
      "Action Input: Alice\u001b[0m\u001b[36;1m\u001b[1;3m\n",
      "Age: 25\n",
      "\u001b[0m\u001b[32;1m\u001b[1;3m25 years old is generally considered to be old enough to make a legal contract, but it's always best to check the person's health status as well.\n",
      "Action: Get Health\n",
      "Action Input: Alice\u001b[0m\u001b[33;1m\u001b[1;3m\n",
      "Health: Mentally Not Sound\n",
      "\u001b[0m\u001b[32;1m\u001b[1;3m Based on Alice's health status, it may not be advisable for her to make a legal contract. It would be best to consult a legal professional for further guidance.\n",
      "Final Answer: It is uncertain whether Alice can make a legal contract due to her mental health status. It would be best to consult a legal professional for further guidance.\u001b[0m\n",
      "\n",
      "\u001b[1m> Finished chain.\u001b[0m\n"
     ]
    },
    {
     "data": {
      "text/plain": [
       "{'input': 'I am Alice. Can I make a legal contract?',\n",
       " 'output': 'It is uncertain whether Alice can make a legal contract due to her mental health status. It would be best to consult a legal professional for further guidance.'}"
      ]
     },
     "execution_count": 13,
     "metadata": {},
     "output_type": "execute_result"
    }
   ],
   "source": [
    "# Query for eligibility check\n",
    "query = \"I am Alice. Can I make a legal contract?\"\n",
    "react_agent_executor.invoke({\"input\": query})\n"
   ]
  },
  {
   "cell_type": "code",
   "execution_count": 18,
   "metadata": {},
   "outputs": [
    {
     "name": "stdout",
     "output_type": "stream",
     "text": [
      "Running on local URL:  http://127.0.0.1:7861\n",
      "\n",
      "To create a public link, set `share=True` in `launch()`.\n"
     ]
    },
    {
     "data": {
      "text/html": [
       "<div><iframe src=\"http://127.0.0.1:7861/\" width=\"100%\" height=\"500\" allow=\"autoplay; camera; microphone; clipboard-read; clipboard-write;\" frameborder=\"0\" allowfullscreen></iframe></div>"
      ],
      "text/plain": [
       "<IPython.core.display.HTML object>"
      ]
     },
     "metadata": {},
     "output_type": "display_data"
    },
    {
     "data": {
      "text/plain": []
     },
     "execution_count": 18,
     "metadata": {},
     "output_type": "execute_result"
    },
    {
     "name": "stdout",
     "output_type": "stream",
     "text": [
      "IMPORTANT: You are using gradio version 4.24.0, however version 4.29.0 is available, please upgrade.\n",
      "--------\n"
     ]
    },
    {
     "name": "stderr",
     "output_type": "stream",
     "text": [
      "/home/yash/.local/lib/python3.10/site-packages/langchain_core/_api/deprecation.py:119: LangChainDeprecationWarning: The class `OpenAI` was deprecated in LangChain 0.0.10 and will be removed in 0.2.0. An updated version of the class exists in the langchain-openai package and should be used instead. To use it run `pip install -U langchain-openai` and import as `from langchain_openai import OpenAI`.\n",
      "  warn_deprecated(\n"
     ]
    }
   ],
   "source": [
    "import gradio as gr\n",
    "from io import StringIO\n",
    "import sys\n",
    "import re\n",
    "\n",
    "def generate_response(question):\n",
    "    \"\"\"\n",
    "    Generate a response based on the provided question using ChatGroq.\n",
    "\n",
    "    Args:\n",
    "    - question (str): The question input by the user.\n",
    "\n",
    "    Returns:\n",
    "    - str: The generated response based on the question.\n",
    "    \"\"\"\n",
    "    tools = [get_age_info_tool, get_health_info_tool]\n",
    "\n",
    "    model = ChatGroq(model_name=\"llama3-70b-8192\", groq_api_key=GROQ_API_KEY, temperature=0)\n",
    "    # model = OpenAI(openai_api_key=\"<YOUR_OPENAI>\")\n",
    "\n",
    "    react_agent = create_react_agent(model, tools=tools, prompt=prompt_react)\n",
    "    react_agent_executor = AgentExecutor(\n",
    "        agent=react_agent, tools=tools, verbose=True, handle_parsing_errors=True\n",
    "    )\n",
    "    \n",
    "    # Redirect stdout to capture text\n",
    "    with StringIO() as text_output:\n",
    "        sys.stdout = text_output\n",
    "        completion = react_agent_executor.invoke({\"input\": question})\n",
    "        sys.stdout = sys.__stdout__  # Reset stdout\n",
    "        \n",
    "        # Get the captured text\n",
    "        text_output_str = text_output.getvalue()\n",
    "    \n",
    "    # Remove ANSI escape codes\n",
    "    text_output_str = re.sub(r'\\x1b\\[[0-9;]*m', '', text_output_str)\n",
    "\n",
    "    return text_output_str\n",
    "\n",
    "# Set up the Gradio interface\n",
    "iface = gr.Interface(\n",
    "    fn=generate_response,\n",
    "    inputs=[gr.Textbox(label=\"Question\")],  # Pass input as a list\n",
    "    outputs=[gr.Textbox(label=\"Generated Response\")],  # Pass output as a list\n",
    "    title=\"Intellegent RAG with Qdrant, LangChain ReAct and Llama3 from Groq Endpoint\",\n",
    "    description=\"Enter a question and get a generated response based on the retrieved text.\",\n",
    ")\n",
    "\n",
    "iface.launch()\n"
   ]
  },
  {
   "cell_type": "code",
   "execution_count": null,
   "metadata": {},
   "outputs": [],
   "source": []
  }
 ],
 "metadata": {
  "kernelspec": {
   "display_name": "Python 3",
   "language": "python",
   "name": "python3"
  },
  "language_info": {
   "codemirror_mode": {
    "name": "ipython",
    "version": 3
   },
   "file_extension": ".py",
   "mimetype": "text/x-python",
   "name": "python",
   "nbconvert_exporter": "python",
   "pygments_lexer": "ipython3",
   "version": "3.10.12"
  }
 },
 "nbformat": 4,
 "nbformat_minor": 2
}
